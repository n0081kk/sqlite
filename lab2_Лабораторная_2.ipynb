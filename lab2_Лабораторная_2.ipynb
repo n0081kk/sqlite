{
 "cells": [
  {
   "cell_type": "code",
   "execution_count": 2,
   "metadata": {
    "colab": {
     "base_uri": "https://localhost:8080/",
     "height": 69
    },
    "id": "exFkotWz7Lk_",
    "outputId": "0a342ed8-704a-47cb-9196-4439c6b40778"
   },
   "outputs": [],
   "source": [
    "%load_ext sql\n",
    "%sql sqlite:///chinook.db"
   ]
  },
  {
   "cell_type": "markdown",
   "metadata": {
    "id": "RLCXYZL5AVUh",
    "tags": []
   },
   "source": [
    "# Часть 1"
   ]
  },
  {
   "cell_type": "markdown",
   "metadata": {
    "id": "IwJ_E91n7LlD"
   },
   "source": [
    "## Задание 1\n",
    "\n",
    "Вывести 20 самых больших по размеру треков жанра ROCK и формата MPEG (используйте команду LIMIT)"
   ]
  },
  {
   "cell_type": "code",
   "execution_count": 37,
   "metadata": {
    "id": "9b5SWBYUCqmy"
   },
   "outputs": [
    {
     "name": "stdout",
     "output_type": "stream",
     "text": [
      " * sqlite:///chinook.db\n",
      "Done.\n"
     ]
    },
    {
     "data": {
      "text/html": [
       "<table>\n",
       "    <tr>\n",
       "        <th>Name</th>\n",
       "        <th>Bytes</th>\n",
       "        <th>Genre</th>\n",
       "        <th>Type</th>\n",
       "    </tr>\n",
       "    <tr>\n",
       "        <td>Dazed And Confused</td>\n",
       "        <td>52490554</td>\n",
       "        <td>Rock</td>\n",
       "        <td>MPEG audio file</td>\n",
       "    </tr>\n",
       "    <tr>\n",
       "        <td>Space Truckin&#x27;</td>\n",
       "        <td>39267613</td>\n",
       "        <td>Rock</td>\n",
       "        <td>MPEG audio file</td>\n",
       "    </tr>\n",
       "    <tr>\n",
       "        <td>Dazed And Confused</td>\n",
       "        <td>36052247</td>\n",
       "        <td>Rock</td>\n",
       "        <td>MPEG audio file</td>\n",
       "    </tr>\n",
       "    <tr>\n",
       "        <td>We&#x27;ve Got To Get Together/Jingo</td>\n",
       "        <td>34618222</td>\n",
       "        <td>Rock</td>\n",
       "        <td>MPEG audio file</td>\n",
       "    </tr>\n",
       "    <tr>\n",
       "        <td>Funky Piano</td>\n",
       "        <td>30200730</td>\n",
       "        <td>Rock</td>\n",
       "        <td>MPEG audio file</td>\n",
       "    </tr>\n",
       "    <tr>\n",
       "        <td>Going Down / Highway Star</td>\n",
       "        <td>29846063</td>\n",
       "        <td>Rock</td>\n",
       "        <td>MPEG audio file</td>\n",
       "    </tr>\n",
       "    <tr>\n",
       "        <td>Santana Jam</td>\n",
       "        <td>29207100</td>\n",
       "        <td>Rock</td>\n",
       "        <td>MPEG audio file</td>\n",
       "    </tr>\n",
       "    <tr>\n",
       "        <td>The Sun Road</td>\n",
       "        <td>29008407</td>\n",
       "        <td>Rock</td>\n",
       "        <td>MPEG audio file</td>\n",
       "    </tr>\n",
       "    <tr>\n",
       "        <td>Whole Lotta Love</td>\n",
       "        <td>28191437</td>\n",
       "        <td>Rock</td>\n",
       "        <td>MPEG audio file</td>\n",
       "    </tr>\n",
       "    <tr>\n",
       "        <td>Mistreated (Alternate Version)</td>\n",
       "        <td>27775442</td>\n",
       "        <td>Rock</td>\n",
       "        <td>MPEG audio file</td>\n",
       "    </tr>\n",
       "    <tr>\n",
       "        <td>Just Ain&#x27;t Good Enough</td>\n",
       "        <td>27489067</td>\n",
       "        <td>Rock</td>\n",
       "        <td>MPEG audio file</td>\n",
       "    </tr>\n",
       "    <tr>\n",
       "        <td>Sign Of The Cross</td>\n",
       "        <td>27121792</td>\n",
       "        <td>Rock</td>\n",
       "        <td>MPEG audio file</td>\n",
       "    </tr>\n",
       "    <tr>\n",
       "        <td>Whole Lotta Love (Medley)</td>\n",
       "        <td>26742545</td>\n",
       "        <td>Rock</td>\n",
       "        <td>MPEG audio file</td>\n",
       "    </tr>\n",
       "    <tr>\n",
       "        <td>You Fool No One</td>\n",
       "        <td>26369966</td>\n",
       "        <td>Rock</td>\n",
       "        <td>MPEG audio file</td>\n",
       "    </tr>\n",
       "    <tr>\n",
       "        <td>Moby Dick</td>\n",
       "        <td>25345841</td>\n",
       "        <td>Rock</td>\n",
       "        <td>MPEG audio file</td>\n",
       "    </tr>\n",
       "    <tr>\n",
       "        <td>You Fool No One (Alternate Version)</td>\n",
       "        <td>24887209</td>\n",
       "        <td>Rock</td>\n",
       "        <td>MPEG audio file</td>\n",
       "    </tr>\n",
       "    <tr>\n",
       "        <td>The Calling</td>\n",
       "        <td>24703884</td>\n",
       "        <td>Rock</td>\n",
       "        <td>MPEG audio file</td>\n",
       "    </tr>\n",
       "    <tr>\n",
       "        <td>Mistreated</td>\n",
       "        <td>24596235</td>\n",
       "        <td>Rock</td>\n",
       "        <td>MPEG audio file</td>\n",
       "    </tr>\n",
       "    <tr>\n",
       "        <td>No Quarter</td>\n",
       "        <td>24399285</td>\n",
       "        <td>Rock</td>\n",
       "        <td>MPEG audio file</td>\n",
       "    </tr>\n",
       "    <tr>\n",
       "        <td>The Angel And The Gambler</td>\n",
       "        <td>23711872</td>\n",
       "        <td>Rock</td>\n",
       "        <td>MPEG audio file</td>\n",
       "    </tr>\n",
       "</table>"
      ],
      "text/plain": [
       "[('Dazed And Confused', 52490554, 'Rock', 'MPEG audio file'),\n",
       " (\"Space Truckin'\", 39267613, 'Rock', 'MPEG audio file'),\n",
       " ('Dazed And Confused', 36052247, 'Rock', 'MPEG audio file'),\n",
       " (\"We've Got To Get Together/Jingo\", 34618222, 'Rock', 'MPEG audio file'),\n",
       " ('Funky Piano', 30200730, 'Rock', 'MPEG audio file'),\n",
       " ('Going Down / Highway Star', 29846063, 'Rock', 'MPEG audio file'),\n",
       " ('Santana Jam', 29207100, 'Rock', 'MPEG audio file'),\n",
       " ('The Sun Road', 29008407, 'Rock', 'MPEG audio file'),\n",
       " ('Whole Lotta Love', 28191437, 'Rock', 'MPEG audio file'),\n",
       " ('Mistreated (Alternate Version)', 27775442, 'Rock', 'MPEG audio file'),\n",
       " (\"Just Ain't Good Enough\", 27489067, 'Rock', 'MPEG audio file'),\n",
       " ('Sign Of The Cross', 27121792, 'Rock', 'MPEG audio file'),\n",
       " ('Whole Lotta Love (Medley)', 26742545, 'Rock', 'MPEG audio file'),\n",
       " ('You Fool No One', 26369966, 'Rock', 'MPEG audio file'),\n",
       " ('Moby Dick', 25345841, 'Rock', 'MPEG audio file'),\n",
       " ('You Fool No One (Alternate Version)', 24887209, 'Rock', 'MPEG audio file'),\n",
       " ('The Calling', 24703884, 'Rock', 'MPEG audio file'),\n",
       " ('Mistreated', 24596235, 'Rock', 'MPEG audio file'),\n",
       " ('No Quarter', 24399285, 'Rock', 'MPEG audio file'),\n",
       " ('The Angel And The Gambler', 23711872, 'Rock', 'MPEG audio file')]"
      ]
     },
     "execution_count": 37,
     "metadata": {},
     "output_type": "execute_result"
    }
   ],
   "source": [
    "%%sql select t.name, t.bytes,g.name as Genre, m.name as Type from tracks t\n",
    "LEFT JOIN genres g ON t.Genreid = g.genreid \n",
    "LEFT JOIN media_types m on t.mediatypeid = m.mediatypeid\n",
    "WHERE g.name regexp \"Rock\" and m.name regexp \"MPEG\"\n",
    "ORDER BY t.bytes desc\n",
    "LIMIT 20;"
   ]
  },
  {
   "cell_type": "markdown",
   "metadata": {
    "id": "eEAq-gUB7LlF"
   },
   "source": [
    "## Задание 2\n",
    "Вывести названия всех групп, их песен и названия их альбомов для всех треков жанра ROCK, приобретенные сотрудниками Microsoft"
   ]
  },
  {
   "cell_type": "code",
   "execution_count": 25,
   "metadata": {
    "id": "LQxLAdI3CrDC"
   },
   "outputs": [
    {
     "name": "stdout",
     "output_type": "stream",
     "text": [
      " * sqlite:///chinook.db\n",
      "Done.\n"
     ]
    },
    {
     "data": {
      "text/html": [
       "<table>\n",
       "    <tr>\n",
       "        <th>Company</th>\n",
       "        <th>ID</th>\n",
       "        <th>Title</th>\n",
       "        <th>Artist</th>\n",
       "        <th>Album</th>\n",
       "    </tr>\n",
       "    <tr>\n",
       "        <td>Microsoft Corporation</td>\n",
       "        <td>1166</td>\n",
       "        <td>Double Talkin&#x27; Jive</td>\n",
       "        <td>Guns N&#x27; Roses</td>\n",
       "        <td>Use Your Illusion I</td>\n",
       "    </tr>\n",
       "    <tr>\n",
       "        <td>Microsoft Corporation</td>\n",
       "        <td>1168</td>\n",
       "        <td>The Garden</td>\n",
       "        <td>Guns N&#x27; Roses</td>\n",
       "        <td>Use Your Illusion I</td>\n",
       "    </tr>\n",
       "    <tr>\n",
       "        <td>Microsoft Corporation</td>\n",
       "        <td>1170</td>\n",
       "        <td>Don&#x27;t Damn Me</td>\n",
       "        <td>Guns N&#x27; Roses</td>\n",
       "        <td>Use Your Illusion I</td>\n",
       "    </tr>\n",
       "    <tr>\n",
       "        <td>Microsoft Corporation</td>\n",
       "        <td>1172</td>\n",
       "        <td>Dead Horse</td>\n",
       "        <td>Guns N&#x27; Roses</td>\n",
       "        <td>Use Your Illusion I</td>\n",
       "    </tr>\n",
       "    <tr>\n",
       "        <td>Microsoft Corporation</td>\n",
       "        <td>990</td>\n",
       "        <td>No Way Back</td>\n",
       "        <td>Foo Fighters</td>\n",
       "        <td>In Your Honor [Disc 1]</td>\n",
       "    </tr>\n",
       "    <tr>\n",
       "        <td>Microsoft Corporation</td>\n",
       "        <td>999</td>\n",
       "        <td>Still</td>\n",
       "        <td>Foo Fighters</td>\n",
       "        <td>In Your Honor [Disc 2]</td>\n",
       "    </tr>\n",
       "    <tr>\n",
       "        <td>Microsoft Corporation</td>\n",
       "        <td>1008</td>\n",
       "        <td>Razor</td>\n",
       "        <td>Foo Fighters</td>\n",
       "        <td>In Your Honor [Disc 2]</td>\n",
       "    </tr>\n",
       "    <tr>\n",
       "        <td>Microsoft Corporation</td>\n",
       "        <td>1026</td>\n",
       "        <td>My Hero</td>\n",
       "        <td>Foo Fighters</td>\n",
       "        <td>The Colour And The Shape</td>\n",
       "    </tr>\n",
       "</table>"
      ],
      "text/plain": [
       "[('Microsoft Corporation', 1166, \"Double Talkin' Jive\", \"Guns N' Roses\", 'Use Your Illusion I'),\n",
       " ('Microsoft Corporation', 1168, 'The Garden', \"Guns N' Roses\", 'Use Your Illusion I'),\n",
       " ('Microsoft Corporation', 1170, \"Don't Damn Me\", \"Guns N' Roses\", 'Use Your Illusion I'),\n",
       " ('Microsoft Corporation', 1172, 'Dead Horse', \"Guns N' Roses\", 'Use Your Illusion I'),\n",
       " ('Microsoft Corporation', 990, 'No Way Back', 'Foo Fighters', 'In Your Honor [Disc 1]'),\n",
       " ('Microsoft Corporation', 999, 'Still', 'Foo Fighters', 'In Your Honor [Disc 2]'),\n",
       " ('Microsoft Corporation', 1008, 'Razor', 'Foo Fighters', 'In Your Honor [Disc 2]'),\n",
       " ('Microsoft Corporation', 1026, 'My Hero', 'Foo Fighters', 'The Colour And The Shape')]"
      ]
     },
     "execution_count": 25,
     "metadata": {},
     "output_type": "execute_result"
    }
   ],
   "source": [
    "%%sql select c.company as Company, it.trackid as ID, t.name as Title, r.name as Artist, a.title as Album from customers c\n",
    "left join invoices i on c.customerid = i.customerid\n",
    "left join invoice_items it on it.invoiceid = i.invoiceid\n",
    "left join tracks t on t.trackid = it.trackid\n",
    "left join albums a on t.albumid = a.albumid\n",
    "left join artists r on r.artistid = a.artistid\n",
    "where (c.company like \"Microsoft%\") and (t.genreid = 1);"
   ]
  },
  {
   "cell_type": "markdown",
   "metadata": {
    "id": "0mmLXQXr7LlG"
   },
   "source": [
    "## Задание 3\n",
    "Для каждого набора (жанр, тип медиа) вывести среднюю цену по стоимости трека и общее количество, причем вывести только те наборы, для которых все треки стоят больше 1,5$ и для которых в наборе есть хотя бы один трек\n"
   ]
  },
  {
   "cell_type": "code",
   "execution_count": 93,
   "metadata": {
    "id": "9kcvxk8OCrby"
   },
   "outputs": [
    {
     "name": "stdout",
     "output_type": "stream",
     "text": [
      " * sqlite:///chinook.db\n",
      "(sqlite3.OperationalError) misuse of aggregate: count()\n",
      "[SQL: with sset AS (\n",
      "    select distinct g.name as Genre, m.name as Type, t.trackid from tracks t\n",
      "    left join genres g on t.genreid = g.genreid\n",
      "    left join media_types m on t.mediatypeid = m.mediatypeid\n",
      ")\n",
      "select s.Genre,s.Type, avg(it.unitprice) from invoice_items it\n",
      "inner join sset s using(Trackid)\n",
      "where count(it.trackid)>1\n",
      "\n",
      "limit 40;]\n",
      "(Background on this error at: https://sqlalche.me/e/14/e3q8)\n"
     ]
    }
   ],
   "source": [
    "%%sql\n",
    "with sset AS (\n",
    "    select distinct g.name as Genre, m.name as Type, t.trackid from tracks t\n",
    "    left join genres g on t.genreid = g.genreid\n",
    "    left join media_types m on t.mediatypeid = m.mediatypeid\n",
    ")\n",
    "select s.Genre,s.Type, avg(it.unitprice) from invoice_items it\n",
    "inner join sset s using(Trackid)\n",
    "\n",
    "\n",
    "limit 40;"
   ]
  },
  {
   "cell_type": "markdown",
   "metadata": {
    "id": "M2JDkqnT7LlG"
   },
   "source": [
    "## Задание 4\n",
    "Для каждой компании вывести общее число заказов их клиентов. Необходимо исключить клиентов без компании (NULL)"
   ]
  },
  {
   "cell_type": "code",
   "execution_count": 22,
   "metadata": {
    "id": "isEzp0r0Crzy"
   },
   "outputs": [
    {
     "name": "stdout",
     "output_type": "stream",
     "text": [
      " * sqlite:///chinook.db\n",
      "Done.\n"
     ]
    },
    {
     "data": {
      "text/html": [
       "<table>\n",
       "    <tr>\n",
       "        <th>Company</th>\n",
       "        <th>count(i.Invoiceid)</th>\n",
       "    </tr>\n",
       "    <tr>\n",
       "        <td>Apple Inc.</td>\n",
       "        <td>7</td>\n",
       "    </tr>\n",
       "    <tr>\n",
       "        <td>Banco do Brasil S.A.</td>\n",
       "        <td>7</td>\n",
       "    </tr>\n",
       "    <tr>\n",
       "        <td>Embraer - Empresa Brasileira de Aeronáutica S.A.</td>\n",
       "        <td>7</td>\n",
       "    </tr>\n",
       "    <tr>\n",
       "        <td>Google Inc.</td>\n",
       "        <td>7</td>\n",
       "    </tr>\n",
       "    <tr>\n",
       "        <td>JetBrains s.r.o.</td>\n",
       "        <td>7</td>\n",
       "    </tr>\n",
       "    <tr>\n",
       "        <td>Microsoft Corporation</td>\n",
       "        <td>7</td>\n",
       "    </tr>\n",
       "    <tr>\n",
       "        <td>Riotur</td>\n",
       "        <td>7</td>\n",
       "    </tr>\n",
       "    <tr>\n",
       "        <td>Rogers Canada</td>\n",
       "        <td>7</td>\n",
       "    </tr>\n",
       "    <tr>\n",
       "        <td>Telus</td>\n",
       "        <td>7</td>\n",
       "    </tr>\n",
       "    <tr>\n",
       "        <td>Woodstock Discos</td>\n",
       "        <td>7</td>\n",
       "    </tr>\n",
       "</table>"
      ],
      "text/plain": [
       "[('Apple Inc.', 7),\n",
       " ('Banco do Brasil S.A.', 7),\n",
       " ('Embraer - Empresa Brasileira de Aeronáutica S.A.', 7),\n",
       " ('Google Inc.', 7),\n",
       " ('JetBrains s.r.o.', 7),\n",
       " ('Microsoft Corporation', 7),\n",
       " ('Riotur', 7),\n",
       " ('Rogers Canada', 7),\n",
       " ('Telus', 7),\n",
       " ('Woodstock Discos', 7)]"
      ]
     },
     "execution_count": 22,
     "metadata": {},
     "output_type": "execute_result"
    }
   ],
   "source": [
    "%%sql select c.Company as Company, count(i.Invoiceid) from customers c \n",
    "left join invoices i on i.customerid  = c.customerid\n",
    "where c.Company is not null\n",
    "group by Company\n",
    "limit 20;"
   ]
  },
  {
   "cell_type": "markdown",
   "metadata": {
    "id": "Ni7Mi7ur7LlH"
   },
   "source": [
    "## Задание 5\n",
    "Для каждой компании вывести общее количестов песен, купленных по жанру поп-музыки"
   ]
  },
  {
   "cell_type": "code",
   "execution_count": null,
   "metadata": {
    "id": "TooWokIqCsIi"
   },
   "outputs": [],
   "source": [
    "%%sql select * from customers c\n",
    "left join invoices i on c.customerid = i.customerid\n",
    "\n",
    "limit 10;"
   ]
  },
  {
   "cell_type": "markdown",
   "metadata": {
    "id": "sxAD3kTf_iSy"
   },
   "source": [
    "## Задание 6\n",
    "Для каждого артиста определить все жанры песен, которые у него есть и количество песен по каждому жанру"
   ]
  },
  {
   "cell_type": "code",
   "execution_count": 79,
   "metadata": {
    "id": "9fKY5tt3CstK"
   },
   "outputs": [
    {
     "name": "stdout",
     "output_type": "stream",
     "text": [
      " * sqlite:///chinook.db\n",
      "Done.\n"
     ]
    },
    {
     "data": {
      "text/html": [
       "<table>\n",
       "    <tr>\n",
       "        <th>Artist</th>\n",
       "        <th>Genre</th>\n",
       "        <th>Tracks</th>\n",
       "    </tr>\n",
       "    <tr>\n",
       "        <td>AC/DC</td>\n",
       "        <td>Rock</td>\n",
       "        <td>18</td>\n",
       "    </tr>\n",
       "    <tr>\n",
       "        <td>Aaron Copland &amp; London Symphony Orchestra</td>\n",
       "        <td>Classical</td>\n",
       "        <td>1</td>\n",
       "    </tr>\n",
       "    <tr>\n",
       "        <td>Aaron Goldberg</td>\n",
       "        <td>Jazz</td>\n",
       "        <td>1</td>\n",
       "    </tr>\n",
       "    <tr>\n",
       "        <td>Academy of St. Martin in the Fields &amp; Sir Neville Marriner</td>\n",
       "        <td>Classical</td>\n",
       "        <td>2</td>\n",
       "    </tr>\n",
       "    <tr>\n",
       "        <td>Academy of St. Martin in the Fields Chamber Ensemble &amp; Sir Neville Marriner</td>\n",
       "        <td>Classical</td>\n",
       "        <td>1</td>\n",
       "    </tr>\n",
       "    <tr>\n",
       "        <td>Academy of St. Martin in the Fields, John Birch, Sir Neville Marriner &amp; Sylvia McNair</td>\n",
       "        <td>Classical</td>\n",
       "        <td>1</td>\n",
       "    </tr>\n",
       "    <tr>\n",
       "        <td>Academy of St. Martin in the Fields, Sir Neville Marriner &amp; Thurston Dart</td>\n",
       "        <td>Classical</td>\n",
       "        <td>1</td>\n",
       "    </tr>\n",
       "    <tr>\n",
       "        <td>Accept</td>\n",
       "        <td>Rock</td>\n",
       "        <td>4</td>\n",
       "    </tr>\n",
       "    <tr>\n",
       "        <td>Adrian Leaper &amp; Doreen de Feis</td>\n",
       "        <td>Classical</td>\n",
       "        <td>1</td>\n",
       "    </tr>\n",
       "    <tr>\n",
       "        <td>Aerosmith</td>\n",
       "        <td>Rock</td>\n",
       "        <td>15</td>\n",
       "    </tr>\n",
       "    <tr>\n",
       "        <td>Aisha Duo</td>\n",
       "        <td>Jazz</td>\n",
       "        <td>2</td>\n",
       "    </tr>\n",
       "    <tr>\n",
       "        <td>Alanis Morissette</td>\n",
       "        <td>Rock</td>\n",
       "        <td>13</td>\n",
       "    </tr>\n",
       "    <tr>\n",
       "        <td>Alberto Turco &amp; Nova Schola Gregoriana</td>\n",
       "        <td>Classical</td>\n",
       "        <td>1</td>\n",
       "    </tr>\n",
       "    <tr>\n",
       "        <td>Alice In Chains</td>\n",
       "        <td>Rock</td>\n",
       "        <td>12</td>\n",
       "    </tr>\n",
       "    <tr>\n",
       "        <td>Amy Winehouse</td>\n",
       "        <td>Pop</td>\n",
       "        <td>23</td>\n",
       "    </tr>\n",
       "    <tr>\n",
       "        <td>Anne-Sophie Mutter, Herbert Von Karajan &amp; Wiener Philharmoniker</td>\n",
       "        <td>Classical</td>\n",
       "        <td>1</td>\n",
       "    </tr>\n",
       "    <tr>\n",
       "        <td>Antal Doráti &amp; London Symphony Orchestra</td>\n",
       "        <td>Classical</td>\n",
       "        <td>1</td>\n",
       "    </tr>\n",
       "    <tr>\n",
       "        <td>Antônio Carlos Jobim</td>\n",
       "        <td>Jazz</td>\n",
       "        <td>31</td>\n",
       "    </tr>\n",
       "    <tr>\n",
       "        <td>Apocalyptica</td>\n",
       "        <td>Metal</td>\n",
       "        <td>8</td>\n",
       "    </tr>\n",
       "    <tr>\n",
       "        <td>Aquaman</td>\n",
       "        <td>TV Shows</td>\n",
       "        <td>1</td>\n",
       "    </tr>\n",
       "    <tr>\n",
       "        <td>Audioslave</td>\n",
       "        <td>Rock</td>\n",
       "        <td>40</td>\n",
       "    </tr>\n",
       "    <tr>\n",
       "        <td>BackBeat</td>\n",
       "        <td>Rock And Roll</td>\n",
       "        <td>12</td>\n",
       "    </tr>\n",
       "    <tr>\n",
       "        <td>Barry Wordsworth &amp; BBC Concert Orchestra</td>\n",
       "        <td>Classical</td>\n",
       "        <td>1</td>\n",
       "    </tr>\n",
       "    <tr>\n",
       "        <td>Battlestar Galactica</td>\n",
       "        <td>Science Fiction</td>\n",
       "        <td>20</td>\n",
       "    </tr>\n",
       "    <tr>\n",
       "        <td>Battlestar Galactica (Classic)</td>\n",
       "        <td>Sci Fi &amp; Fantasy</td>\n",
       "        <td>24</td>\n",
       "    </tr>\n",
       "</table>"
      ],
      "text/plain": [
       "[('AC/DC', 'Rock', 18),\n",
       " ('Aaron Copland & London Symphony Orchestra', 'Classical', 1),\n",
       " ('Aaron Goldberg', 'Jazz', 1),\n",
       " ('Academy of St. Martin in the Fields & Sir Neville Marriner', 'Classical', 2),\n",
       " ('Academy of St. Martin in the Fields Chamber Ensemble & Sir Neville Marriner', 'Classical', 1),\n",
       " ('Academy of St. Martin in the Fields, John Birch, Sir Neville Marriner & Sylvia McNair', 'Classical', 1),\n",
       " ('Academy of St. Martin in the Fields, Sir Neville Marriner & Thurston Dart', 'Classical', 1),\n",
       " ('Accept', 'Rock', 4),\n",
       " ('Adrian Leaper & Doreen de Feis', 'Classical', 1),\n",
       " ('Aerosmith', 'Rock', 15),\n",
       " ('Aisha Duo', 'Jazz', 2),\n",
       " ('Alanis Morissette', 'Rock', 13),\n",
       " ('Alberto Turco & Nova Schola Gregoriana', 'Classical', 1),\n",
       " ('Alice In Chains', 'Rock', 12),\n",
       " ('Amy Winehouse', 'Pop', 23),\n",
       " ('Anne-Sophie Mutter, Herbert Von Karajan & Wiener Philharmoniker', 'Classical', 1),\n",
       " ('Antal Doráti & London Symphony Orchestra', 'Classical', 1),\n",
       " ('Antônio Carlos Jobim', 'Jazz', 31),\n",
       " ('Apocalyptica', 'Metal', 8),\n",
       " ('Aquaman', 'TV Shows', 1),\n",
       " ('Audioslave', 'Rock', 40),\n",
       " ('BackBeat', 'Rock And Roll', 12),\n",
       " ('Barry Wordsworth & BBC Concert Orchestra', 'Classical', 1),\n",
       " ('Battlestar Galactica', 'Science Fiction', 20),\n",
       " ('Battlestar Galactica (Classic)', 'Sci Fi & Fantasy', 24)]"
      ]
     },
     "execution_count": 79,
     "metadata": {},
     "output_type": "execute_result"
    }
   ],
   "source": [
    "%%sql select\n",
    "r.name as Artist,\n",
    "g.name as Genre,\n",
    "count(t.trackid) as Tracks\n",
    "from genres g\n",
    "left join tracks t on g.genreid = t.genreid\n",
    "left join albums a on a.albumid = t.albumid\n",
    "left join artists r on r.artistid = a.artistid\n",
    "group by Artist\n",
    "limit 25;"
   ]
  },
  {
   "cell_type": "markdown",
   "metadata": {
    "id": "8Nwojma57LlH"
   },
   "source": [
    "## Задание 7\n",
    "Вывести средний размер альбома в байтах"
   ]
  },
  {
   "cell_type": "code",
   "execution_count": 41,
   "metadata": {
    "id": "K9xquOHcCtGq"
   },
   "outputs": [
    {
     "name": "stdout",
     "output_type": "stream",
     "text": [
      " * sqlite:///chinook.db\n",
      "Done.\n"
     ]
    },
    {
     "data": {
      "text/html": [
       "<table>\n",
       "    <tr>\n",
       "        <th>sum(t.bytes)/count(t.albumid)</th>\n",
       "    </tr>\n",
       "    <tr>\n",
       "        <td>33510207</td>\n",
       "    </tr>\n",
       "</table>"
      ],
      "text/plain": [
       "[(33510207,)]"
      ]
     },
     "execution_count": 41,
     "metadata": {},
     "output_type": "execute_result"
    }
   ],
   "source": [
    "%%sql select sum(t.bytes)/count(t.albumid) from tracks t\n",
    "limit 10;"
   ]
  },
  {
   "cell_type": "markdown",
   "metadata": {
    "id": "tsEdbha5CnGC"
   },
   "source": [
    "# Часть 2"
   ]
  },
  {
   "cell_type": "markdown",
   "metadata": {
    "id": "nLIbkB-w_aD6"
   },
   "source": [
    "## Задание 8\n",
    "Вывести названия треков и их продолжительность, которые были приобретены компаниями, которые обслуживаются сотрудниками, нанятыми после 3 сентября 2002 года"
   ]
  },
  {
   "cell_type": "code",
   "execution_count": null,
   "metadata": {
    "id": "d3s_ZXkoCuCy"
   },
   "outputs": [],
   "source": []
  },
  {
   "cell_type": "markdown",
   "metadata": {
    "id": "Bu60tw0tADem"
   },
   "source": [
    "## Задание 9\n",
    "Для каждого артиста найти жанр, по которому он заработал наибольшее количество денег, а также вывести соотношение общей суммы, заработанной артистом по всем другим жанрам к общей сумме заработанных денег. Если по нескольким жанрам заработано одинаковое количество денег, и оно является максимальным для артиста, то выбирается жанр раньше по алфавиту"
   ]
  },
  {
   "cell_type": "code",
   "execution_count": null,
   "metadata": {
    "id": "0DP0Xd0_CuZE"
   },
   "outputs": [],
   "source": []
  },
  {
   "cell_type": "markdown",
   "metadata": {
    "id": "epfFVrwEAQzY"
   },
   "source": [
    "## Задание 10\n",
    "Вывести альбом, который является минимальным по объему (в байтах) среди альбомов со стоимостью, большей средней цены за альбом по всем альбомам с таким же жанром (если у альбома песни с нескольким жанрами, то жанром является тот, у которого наибольшее количество песен в альбоме)"
   ]
  },
  {
   "cell_type": "code",
   "execution_count": null,
   "metadata": {
    "id": "JDPvn8iTCuvy"
   },
   "outputs": [],
   "source": []
  }
 ],
 "metadata": {
  "colab": {
   "collapsed_sections": [
    "tsEdbha5CnGC"
   ],
   "name": "Copy of Лабораторная-2.ipynb",
   "provenance": []
  },
  "kernelspec": {
   "display_name": "Python 3 (ipykernel)",
   "language": "python",
   "name": "python3"
  },
  "language_info": {
   "codemirror_mode": {
    "name": "ipython",
    "version": 3
   },
   "file_extension": ".py",
   "mimetype": "text/x-python",
   "name": "python",
   "nbconvert_exporter": "python",
   "pygments_lexer": "ipython3",
   "version": "3.9.7"
  }
 },
 "nbformat": 4,
 "nbformat_minor": 4
}
